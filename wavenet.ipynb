{
 "cells": [
  {
   "cell_type": "code",
   "execution_count": 5,
   "id": "6f2fe99e-429d-457a-88bb-f02e71147b88",
   "metadata": {},
   "outputs": [],
   "source": [
    "import torch\n",
    "import torch.nn.functional as F\n",
    "import matplotlib.pyplot as plt"
   ]
  },
  {
   "cell_type": "code",
   "execution_count": 6,
   "id": "eb82aeb1-4ac9-4baa-bb67-757dcb3f282f",
   "metadata": {},
   "outputs": [],
   "source": [
    "words=open('names.txt','r').read().splitlines()\n",
    "char=sorted(set(''.join(words))) \n",
    "stoi={s:(i+1) for i,s in enumerate(char)}\n",
    "stoi['.']=0\n",
    "itos={i:s for s,i in stoi.items()}\n",
    "vocab_size=len(itos)\n"
   ]
  },
  {
   "cell_type": "code",
   "execution_count": 8,
   "id": "ebef9e81-d0c2-4a39-af16-9a448dc8af68",
   "metadata": {},
   "outputs": [],
   "source": [
    "block_size=8\n",
    "def build_dataset(words):\n",
    "    x,y=[],[]\n",
    "    for w in words:\n",
    "        context=[0]*block_size\n",
    "        for ch in w+'.':\n",
    "            ix=stoi[ch]\n",
    "            x.append(context)\n",
    "            y.append(ix)\n",
    "            context=context[1:]+[ix]\n",
    "    xs=torch.tensor(x)    \n",
    "    ys=torch.tensor(y)\n",
    "    return xs,ys\n",
    "\n",
    "import random\n",
    "random.seed(42)\n",
    "random.shuffle(words)\n",
    "n1=int(0.8*len(words))\n",
    "n2=int(0.9*len(words))\n",
    "\n",
    "x_train,y_train=build_dataset(words[:n1])\n",
    "x_dev,y_dev=build_dataset(words[n1:n2])\n",
    "x_test,y_test=build_dataset(words[n2:])"
   ]
  },
  {
   "cell_type": "code",
   "execution_count": 9,
   "id": "00ddba57-2ef5-4e5c-a410-de9fc1c01f08",
   "metadata": {},
   "outputs": [
    {
     "name": "stdout",
     "output_type": "stream",
     "text": [
      "........ \t e\n",
      ".......e \t b\n",
      "......eb \t r\n",
      ".....ebr \t i\n",
      "....ebri \t m\n",
      "...ebrim \t a\n",
      "..ebrima \t .\n",
      "........ \t h\n",
      ".......h \t i\n",
      "......hi \t l\n",
      ".....hil \t t\n",
      "....hilt \t o\n",
      "...hilto \t n\n",
      "..hilton \t .\n",
      "........ \t j\n",
      ".......j \t h\n",
      "......jh \t e\n",
      ".....jhe \t n\n",
      "....jhen \t e\n",
      "...jhene \t .\n"
     ]
    }
   ],
   "source": [
    "for x,y in zip(x_train[:20],y_train[:20]):\n",
    "    print(''.join(itos[ix.item()] for ix in x),'\\t',itos[y.item()])"
   ]
  },
  {
   "cell_type": "code",
   "execution_count": 14,
   "id": "176ce505-7674-4dbd-a32e-ccacd0fa84fb",
   "metadata": {},
   "outputs": [
    {
     "name": "stdout",
     "output_type": "stream",
     "text": [
      "76579\n"
     ]
    }
   ],
   "source": [
    "class Linear:\n",
    "    def __init__(self,fan_in,fan_out,bias=True):\n",
    "        self.weight=torch.randn((fan_in,fan_out),generator=g)/fan_in**0.5\n",
    "        self.bias=torch.zeros(fan_out) if bias else None\n",
    "        \n",
    "    def __call__(self,x):\n",
    "        self.out=x @ self.weight\n",
    "        if self.bias is not None:\n",
    "            self.out+=self.bias\n",
    "        return self.out\n",
    "        \n",
    "    def parameters(self):\n",
    "        return [self.weight]+([] if self.bias is None else [self.bias])\n",
    "#--------------------------------------------------------------------------------------------------------------------------------------------\n",
    "class BatchNorm1d:\n",
    "  \n",
    "  def __init__(self, dim, eps=1e-5, momentum=0.1):\n",
    "    self.eps = eps\n",
    "    self.momentum = momentum\n",
    "    self.training = True\n",
    "      \n",
    "    self.gamma = torch.ones(dim)\n",
    "    self.beta = torch.zeros(dim)\n",
    "\n",
    "    self.running_mean = torch.zeros(dim)\n",
    "    self.running_var = torch.ones(dim)\n",
    "  \n",
    "  def __call__(self, x):\n",
    "\n",
    "    if self.training:\n",
    "      if x.ndim==2:\n",
    "          dim=0\n",
    "      elif x.ndim==3:\n",
    "          dim=(0,1)\n",
    "      xmean = x.mean(dim, keepdim=True) \n",
    "      xvar = x.var(dim, keepdim=True) \n",
    "    else:\n",
    "      xmean = self.running_mean\n",
    "      xvar = self.running_var\n",
    "    \n",
    "    xhat = (x - xmean) / torch.sqrt(xvar + self.eps) \n",
    "      \n",
    "    self.out = self.gamma * xhat + self.beta\n",
    "\n",
    "    if self.training:\n",
    "      with torch.no_grad():\n",
    "        self.running_mean = (1 - self.momentum) * self.running_mean + self.momentum * xmean\n",
    "        self.running_var = (1 - self.momentum) * self.running_var + self.momentum * xvar\n",
    "    return self.out\n",
    "  \n",
    "  def parameters(self):\n",
    "    return [self.gamma, self.beta]\n",
    "\n",
    "#--------------------------------------------------------------------------------------------------------------------------------------------\n",
    "class Tanh:\n",
    "  def __call__(self, x):\n",
    "    self.out = torch.tanh(x)\n",
    "    return self.out\n",
    "      \n",
    "  def parameters(self):\n",
    "    return []\n",
    "#--------------------------------------------------------------------------------------------------------------------------------------------      \n",
    "class Embedding:\n",
    "    def __init__(self,num_emb,emb_dim):\n",
    "        self.weight=torch.randn(num_emb,emb_dim,generator=g)\n",
    "\n",
    "    def __call__(self,index):\n",
    "        self.out=self.weight[index]\n",
    "        return self.out\n",
    "\n",
    "    def parameters(self):\n",
    "        return [self.weight]\n",
    "\n",
    "#--------------------------------------------------------------------------------------------------------------------------------------------\n",
    "class FlattenC:\n",
    "    def __init__(self,n):\n",
    "        self.n=n\n",
    "        \n",
    "    def __call__(self,x):\n",
    "        B,T,C=x.shape\n",
    "        x=x.view(B,T//self.n,C*self.n)\n",
    "        if x.shape[1]==1:\n",
    "            x=x.squeeze(1)\n",
    "        self.out=x\n",
    "        return self.out\n",
    "\n",
    "    def parameters(self):\n",
    "        return []\n",
    "#----------------------------------------------------------------------------------------------------------------------------------------------\n",
    "class Sequential:\n",
    "    def __init__(self,layers):\n",
    "        self.layers=layers\n",
    "\n",
    "    def __call__(self,x):\n",
    "        for layer in self.layers:\n",
    "            x=layer(x)\n",
    "        self.out=x\n",
    "        return self.out\n",
    "\n",
    "    def parameters(self):\n",
    "        return [p for layer in self.layers for p in layer.parameters()]\n",
    "#----------------------------------------------------------------------------------------------------------------------------------------------      \n",
    "n_emb=24\n",
    "n_hidden=128\n",
    "vocab_size=len(stoi)\n",
    "\n",
    "g=torch.Generator().manual_seed(2147483647)\n",
    "\n",
    "model=Sequential([\n",
    "    Embedding(vocab_size,n_emb),\n",
    "    FlattenC(2),\n",
    "    Linear(2*n_emb,n_hidden,bias=False),BatchNorm1d(n_hidden),Tanh(),\n",
    "    FlattenC(2),    \n",
    "    Linear(2*n_hidden,n_hidden,bias=False),BatchNorm1d(n_hidden),Tanh(),\n",
    "    FlattenC(2),    \n",
    "    Linear(2*n_hidden,n_hidden,bias=False),BatchNorm1d(n_hidden),Tanh(),\n",
    "    Linear(           n_hidden,vocab_size)\n",
    "])\n",
    "\n",
    "with torch.no_grad():\n",
    "    model.layers[-1].weight*=0.1\n",
    "    # for layer in layers[:-1]:\n",
    "    #     if isinstance(layer,Linear):\n",
    "    #         layer.weight*=1 #5/3\n",
    "\n",
    "\n",
    "parameters=model.parameters()\n",
    "print(sum(p.nelement() for p in parameters))\n",
    "for p in parameters:\n",
    "    p.requires_grad=True"
   ]
  },
  {
   "cell_type": "code",
   "execution_count": 16,
   "id": "592b42d2-0bd9-46b6-b4a7-6845aa6ab9df",
   "metadata": {},
   "outputs": [
    {
     "name": "stdout",
     "output_type": "stream",
     "text": [
      "0/100000\t3.2639403343200684\n",
      "10000/100000\t2.234916925430298\n",
      "20000/100000\t2.0545263290405273\n",
      "30000/100000\t2.1416735649108887\n",
      "40000/100000\t1.88023042678833\n",
      "50000/100000\t1.982135534286499\n",
      "60000/100000\t2.056563377380371\n",
      "70000/100000\t1.8419013023376465\n",
      "80000/100000\t1.3891226053237915\n",
      "90000/100000\t2.00595760345459\n",
      "100000/100000\t1.937696099281311\n",
      "110000/100000\t1.7891194820404053\n",
      "120000/100000\t2.410231590270996\n",
      "130000/100000\t1.6866563558578491\n",
      "140000/100000\t1.3954452276229858\n",
      "150000/100000\t1.609774112701416\n",
      "160000/100000\t1.4308397769927979\n",
      "170000/100000\t1.7757346630096436\n",
      "180000/100000\t1.3888370990753174\n",
      "190000/100000\t1.7857197523117065\n"
     ]
    }
   ],
   "source": [
    "max_steps=200000\n",
    "batch_size=32\n",
    "n=batch_size\n",
    "lossi,lri=[],[]\n",
    "for i in range(max_steps):\n",
    "\n",
    "    ix=torch.randint(0,x_train.shape[0],(batch_size,))\n",
    "    xs,ys=x_train[ix],y_train[ix]\n",
    "    \n",
    "    logits=model(xs)\n",
    "    loss=F.cross_entropy(logits,ys)\n",
    "    \n",
    "    for p in parameters:\n",
    "        p.grad=None\n",
    "    loss.backward()\n",
    "\n",
    "    lr=0.1 if i<100000 else 0.01\n",
    "    for p in parameters:\n",
    "        p.data+=-lr*p.grad\n",
    "    lossi.append(loss.log10().item())\n",
    "    lri.append(i)\n",
    "\n",
    "    if i%10000==0:\n",
    "         print(f'{i}/{100000}\\t{loss}')\n",
    "    # break"
   ]
  },
  {
   "cell_type": "markdown",
   "id": "3c8cac33-ee94-4916-b892-f4b687e80fd7",
   "metadata": {},
   "source": [
    "# Error in batch normalization\n",
    "model.layers[3].running_mean.shape\n",
    "output is [1,4,68]\n",
    "which is not true because in 3d tensor batch size will be (32,4)\n",
    "so when we do batch norm, it should calculate mean across (0,1 ) dim \n",
    "so we use torch .mean to calculate across (0,1 ) such that \n",
    "model.layers[3].running_mean.shape\n",
    "is"
   ]
  },
  {
   "cell_type": "code",
   "execution_count": 125,
   "id": "54492444-c20f-4332-b7d6-7c1d7591df67",
   "metadata": {},
   "outputs": [
    {
     "data": {
      "text/plain": [
       "torch.Size([1, 1, 128])"
      ]
     },
     "execution_count": 125,
     "metadata": {},
     "output_type": "execute_result"
    }
   ],
   "source": [
    "model.layers[3].running_mean.shape\n"
   ]
  },
  {
   "cell_type": "code",
   "execution_count": 126,
   "id": "62e89bf6-7558-4ec2-bcaf-586cd09e650d",
   "metadata": {},
   "outputs": [
    {
     "name": "stdout",
     "output_type": "stream",
     "text": [
      "Embedding \t (32, 8, 24)\n",
      "FlattenC \t (32, 4, 48)\n",
      "Linear \t (32, 4, 128)\n",
      "BatchNorm1d \t (32, 4, 128)\n",
      "Tanh \t (32, 4, 128)\n",
      "FlattenC \t (32, 2, 256)\n",
      "Linear \t (32, 2, 128)\n",
      "BatchNorm1d \t (32, 2, 128)\n",
      "Tanh \t (32, 2, 128)\n",
      "FlattenC \t (32, 256)\n",
      "Linear \t (32, 128)\n",
      "BatchNorm1d \t (32, 128)\n",
      "Tanh \t (32, 128)\n",
      "Linear \t (32, 27)\n"
     ]
    }
   ],
   "source": [
    "for layer in model.layers:\n",
    "    print(layer.__class__.__name__,'\\t',tuple(layer.out.shape))"
   ]
  },
  {
   "cell_type": "code",
   "execution_count": 127,
   "id": "f471e14d-39e3-46cd-a672-f3d75a2acec5",
   "metadata": {},
   "outputs": [
    {
     "data": {
      "text/plain": [
       "[<matplotlib.lines.Line2D at 0x12d3bd250>]"
      ]
     },
     "execution_count": 127,
     "metadata": {},
     "output_type": "execute_result"
    },
    {
     "data": {
      "image/png": "[encoded data removed]",
      "text/plain": [
       "<Figure size 640x480 with 1 Axes>"
      ]
     },
     "metadata": {},
     "output_type": "display_data"
    }
   ],
   "source": [
    "plt.plot(10**(torch.tensor(lossi).view(-1,1000).mean(1)))\n",
    "# torch.tensor(lossi).view(-1,1000).mean(1).shape\n",
    "# plt.plot(lossi)"
   ]
  },
  {
   "cell_type": "code",
   "execution_count": 128,
   "id": "926a7232-778e-4f5c-80dd-a0bb25cda973",
   "metadata": {},
   "outputs": [],
   "source": [
    "for layer in model.layers:\n",
    "    layer.training=False"
   ]
  },
  {
   "cell_type": "code",
   "execution_count": 141,
   "id": "cea24ff1-a6d0-4f4c-a863-7fa73627677b",
   "metadata": {},
   "outputs": [
    {
     "name": "stdout",
     "output_type": "stream",
     "text": [
      "train 1.7842748165130615\n",
      "val 1.9782551527023315\n"
     ]
    }
   ],
   "source": [
    "@torch.no_grad() # this decorator disables gradient tracking inside pytorch\n",
    "def split_loss(split):\n",
    "    xb,yb = {\n",
    "        'train': (x_train, y_train),\n",
    "        'val': (x_dev, y_dev),\n",
    "        'test': (x_test, y_test),\n",
    "      }[split]\n",
    "    logits=model(xb)\n",
    "    loss = F.cross_entropy(logits, yb)\n",
    "    print(split, loss.item())\n",
    "\n",
    "split_loss('train')\n",
    "split_loss('val')"
   ]
  },
  {
   "cell_type": "code",
   "execution_count": 120,
   "id": "91ccbf99-a90f-493f-a060-0deb1320044e",
   "metadata": {},
   "outputs": [],
   "source": [
    "# before implementation of wavenet and \n",
    "    # block size =3 (i.e MLP)\n",
    "        #train 2.0660288333892822\n",
    "        # val 2.11008620262146\n",
    "    # block size =8 (i.e MLP)\n",
    "         # train 1.918,\n",
    "         # val 2.027\n",
    "# after implementation of wavenet\n",
    "        #train 1.8025965690612793\n",
    "        # val 1.9713914394378662\n",
    "#in wavenet we added layers so no of parameters increased but when we keep n_hidden 68 total parameters roughly becomes same as the previous\n",
    "#model i.e. MLP\n",
    "        # train 1.9557833671569824\n",
    "        # val 2.023848533630371\n",
    "    #conclusion on keeping same no of parameters in MlP and in wavenet porformance is not highly optimized"
   ]
  },
  {
   "cell_type": "code",
   "execution_count": 147,
   "id": "95b33b50-98fd-469c-b88d-5ed5d5ccc325",
   "metadata": {},
   "outputs": [
    {
     "name": "stdout",
     "output_type": "stream",
     "text": [
      "kayla.\n",
      "slant.\n",
      "carius.\n",
      "kalani.\n",
      "lexande.\n",
      "kayron.\n",
      "jalys.\n",
      "rilinger.\n",
      "phoenix.\n",
      "emmauri.\n"
     ]
    }
   ],
   "source": [
    "block_size=8\n",
    "for i in range(10):\n",
    "    context=[0]*block_size\n",
    "    out=[]\n",
    "    while True:\n",
    "        logits=model(torch.tensor([context]))\n",
    "        prob=F.softmax(logits,dim=1)\n",
    "        ix=torch.multinomial(prob,num_samples=1,).item()\n",
    "        out.append(itos[ix])\n",
    "        context=context[1:]+[ix]\n",
    "        if ix==0:\n",
    "            break\n",
    "    print(''.join(out))\n",
    "    "
   ]
  },
  {
   "cell_type": "code",
   "execution_count": null,
   "id": "215fb7bd-e700-4730-ac41-ee9af90f4e23",
   "metadata": {},
   "outputs": [],
   "source": []
  },
  {
   "cell_type": "code",
   "execution_count": null,
   "id": "71956b5d-0a2d-49cb-a11e-a4812a061e0a",
   "metadata": {},
   "outputs": [],
   "source": []
  },
  {
   "cell_type": "code",
   "execution_count": null,
   "id": "3c6d70ad-8091-4c2d-a434-9d524503dfde",
   "metadata": {},
   "outputs": [],
   "source": []
  }
 ],
 "metadata": {
  "kernelspec": {
   "display_name": "Python 3 (ipykernel)",
   "language": "python",
   "name": "python3"
  },
  "language_info": {
   "codemirror_mode": {
    "name": "ipython",
    "version": 3
   },
   "file_extension": ".py",
   "mimetype": "text/x-python",
   "name": "python",
   "nbconvert_exporter": "python",
   "pygments_lexer": "ipython3",
   "version": "3.11.2"
  }
 },
 "nbformat": 4,
 "nbformat_minor": 5
}
